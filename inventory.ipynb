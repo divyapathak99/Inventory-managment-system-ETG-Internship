{
  "nbformat": 4,
  "nbformat_minor": 0,
  "metadata": {
    "colab": {
      "name": "inventory.ipynb",
      "provenance": [],
      "collapsed_sections": [],
      "toc_visible": true
    },
    "kernelspec": {
      "name": "python3",
      "display_name": "Python 3"
    },
    "language_info": {
      "name": "python"
    }
  },
  "cells": [
    {
      "cell_type": "code",
      "metadata": {
        "id": "ooLryNTQN68E"
      },
      "source": [
        "import json\n",
        "\n",
        "with open(\"record.json\",\"r\") as file:\n",
        "  record = json.load(file)"
      ],
      "execution_count": 4,
      "outputs": []
    },
    {
      "cell_type": "code",
      "metadata": {
        "colab": {
          "base_uri": "https://localhost:8080/"
        },
        "id": "kQjTPogROHkZ",
        "outputId": "4530071e-edd0-4046-f6d9-fe2f8b502020"
      },
      "source": [
        "# Adding more products in the inventory.\n",
        "\n",
        "# Making a list of attributes of the inventory.\n",
        "attributes = list(record[\"1001\"].keys())\n",
        "# Prompt user to enter the number of diffrent entries to make change (add or update) in the inventory.\n",
        "n = int(input(\"input the number of entries: \"))\n",
        "for i in range(0, n):\n",
        "  # \".replace\" is used to remove or to control any spacing error created by the user while entering the product_id.\n",
        "    product_id = input(\"enter the product id: \").replace(\" \", \"\")\n",
        "    # if the product_id entered by the user is already in the inventory then update the number of items only, without making the new entry.\n",
        "    if product_id in list(record.keys()):\n",
        "        quantity = int(input(\"enter the quantity: \"))\n",
        "        record[product_id][\"Quantity\"] += quantity\n",
        "    else:\n",
        "      # else add new products otherwise.   \n",
        "        att_dict = {}\n",
        "        count = 0\n",
        "        for i in attributes:\n",
        "            if count > 3:\n",
        "                new = int(input(f\"enter the {i}: \"))\n",
        "            else:\n",
        "                new = input(f\"enter the {i}: \")\n",
        "                \n",
        "            att_dict[i] = new\n",
        "            count += 1\n",
        "        record[product_id] = att_dict\n",
        "    print(\"\\n\")\n",
        "\n",
        "\n",
        "# update the record.json file.\n",
        "js = json.dumps(record)\n",
        "with open(\"record.json\", \"a\") as file:\n",
        "    file.write(js)    "
      ],
      "execution_count": 6,
      "outputs": [
        {
          "output_type": "stream",
          "name": "stdout",
          "text": [
            "input the number of entries: 1\n",
            "enter the product id: 1004\n",
            "enter the quantity: 1\n",
            "\n",
            "\n"
          ]
        }
      ]
    },
    {
      "cell_type": "code",
      "metadata": {
        "id": "wOCAja0bOonZ"
      },
      "source": [
        ""
      ],
      "execution_count": null,
      "outputs": []
    }
  ]
}