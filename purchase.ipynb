{
  "nbformat": 4,
  "nbformat_minor": 0,
  "metadata": {
    "colab": {
      "name": "purchase.ipynb",
      "provenance": [],
      "collapsed_sections": []
    },
    "kernelspec": {
      "name": "python3",
      "display_name": "Python 3"
    },
    "language_info": {
      "name": "python"
    }
  },
  "cells": [
    {
      "cell_type": "code",
      "metadata": {
        "id": "cEfQLI5NPbVj"
      },
      "source": [
        "import json\n",
        "\n",
        "# opening record.json\n",
        "with open(\"record.json\",\"r\") as file:\n",
        "  record = json.load(file)\n",
        "\n",
        "# Opening sales.json\n",
        "with open(\"sales.json\",\"r\") as file:\n",
        "  sales = json.load(file)\n",
        "\n"
      ],
      "execution_count": 13,
      "outputs": []
    },
    {
      "cell_type": "code",
      "metadata": {
        "colab": {
          "base_uri": "https://localhost:8080/"
        },
        "id": "mhcDW087PKtH",
        "outputId": "a484ca88-69cd-479b-9c5c-c64f418af906"
      },
      "source": [
        "# PURCHASE and update inventory.\n",
        "from datetime import datetime\n",
        "# Prompt user to enter the number of items they are purchasing.\n",
        "items = int(input(\"enter the number of items you are purchasing: \"))\n",
        "bill_record = {}\n",
        "for i in range(0, items):\n",
        "    # checking if the product_id entered by the user is a valid id or not. \n",
        "    product_id = input(\"enter product id: \").replace(\" \", \"\")\n",
        "    while (product_id not in record.keys()):\n",
        "        print(\"Sorry, we don't sale this item!\")\n",
        "        product_id = input(\"enter product id: \").replace(\" \", \"\")\n",
        "    quantity = int(input(\"enter the quantity: \"))\n",
        "    ava_item = record[product_id][\"Quantity\"]\n",
        "    # Checking for the availability of the products and updating the value of the records, if the user purchased something.   \n",
        "    if (ava_item == 0):\n",
        "        print(f\"sorry, your order for {product_id} is not available!\")\n",
        "    elif (quantity > record[product_id][\"Quantity\"]):\n",
        "        print(f\"we have only {ava_item} items available for your order {product_id} at this moment. would you like to purchase them?\")\n",
        "        consumer_ans = input(\"YES/NO: \")\n",
        "        if consumer_ans.upper() == \"YES\":\n",
        "            record[product_id][\"Quantity\"] = 0\n",
        "            bill_record[product_id] = record[product_id][\"Quantity\"]\n",
        "            discount = round((record[product_id][\"Discount(%)\"] * record[product_id][\"Price(INR)\"])/100)\n",
        "            amount = record[product_id][\"Quantity\"] * (record[product_id][\"Price(INR)\"] - discount)\n",
        "            sales[len(sales) + 1] = {\"Product ID\": record[product_id], \"Proncuct name\": record[product_id][\"Product name\"],\"Brand\": record[product_id][\"Brand\"], \"Quantity\": record[product_id][\"Quantity\"], \"Net amount(INR)\": amount, \"Date & Time\": datetime.now().strftime(\"%d/%m/%y %H:%M:%S\")}\n",
        "    else:\n",
        "        bill_record[product_id] = quantity\n",
        "        discount = round((record[product_id][\"Discount(%)\"] * record[product_id][\"Price(INR)\"])/100)\n",
        "        amount = quantity * (record[product_id][\"Price(INR)\"] - discount)\n",
        "        record[product_id][\"Quantity\"] = record[product_id][\"Quantity\"] - quantity\n",
        "        sales[len(sales) + 1] = {\"Product ID\": product_id, \"Proncuct name\": record[product_id][\"Product name\"],\"Brand\": record[product_id][\"Brand\"], \"Quantity\": quantity, \"Net amount(INR)\": amount, \"Date & Time\":datetime.now().strftime(\"%d/%m/%y %H:%M:%S\")} \n",
        "    print(\"\\n\")\n",
        "# update record.json\n",
        "js = json.dumps(record)\n",
        "with open(\"record.json\", \"w\") as file:\n",
        "  file.write(js)\n",
        "  \n",
        "# record sales.json file after every purchase.\n",
        "fr = json.dumps(sales)\n",
        "with open(\"sales.json\", \"w\") as file:\n",
        "    file.write(fr)\n",
        "        "
      ],
      "execution_count": 14,
      "outputs": [
        {
          "output_type": "stream",
          "name": "stdout",
          "text": [
            "enter the number of items you are purchasing: 3\n",
            "enter product id: 1007\n",
            "enter the quantity: 1\n",
            "\n",
            "\n",
            "enter product id: 1010\n",
            "enter the quantity: 1\n",
            "\n",
            "\n",
            "enter product id: 1027\n",
            "enter the quantity: 1\n",
            "\n",
            "\n"
          ]
        }
      ]
    },
    {
      "cell_type": "code",
      "metadata": {
        "colab": {
          "base_uri": "https://localhost:8080/"
        },
        "id": "TMnCT9CoPuaS",
        "outputId": "f7fe5063-b747-4fb3-f2e4-226fda590af6"
      },
      "source": [
        "# print bill of the consumer purchases.\n",
        "\n",
        "from datetime import datetime\n",
        "from termcolor import colored\n",
        "\n",
        "now = datetime.now()\n",
        "dt_string = now.strftime(\"%d/%m/%y %H:%M:%S\")\n",
        "count = 0\n",
        "grand_total = 0\n",
        "print(colored(\"--------------INVOICE--------------\", attrs=['bold']))\n",
        "print(\"Company Name: XXXXXX\")\n",
        "print(\"Email ID: XXXXXXXXXXX@gmail.com\")\n",
        "print(\"Contact number: +91 XXXXXXXXXX\")\n",
        "print(\"-\" *50)\n",
        "print(colored(f\"Date & Time: {dt_string}\", attrs =['bold']))\n",
        "print(\"-\" *50)\n",
        "\n",
        "for keys in bill_record.keys():\n",
        "    count += 1\n",
        "    name = record[keys][\"Product name\"]\n",
        "    price = record[keys][\"Price(INR)\"]\n",
        "    brand = record[keys][\"Brand\"]\n",
        "    model = record[keys][\"Model\"]\n",
        "    colour = record[keys][\"Colour\"]\n",
        "    discount = round((record[keys][\"Discount(%)\"] * price)/100)\n",
        "    amount = bill_record[keys] * (price - discount)\n",
        "    print(f\"{count}. Product name: {name}\")\n",
        "    print(f\"Brand & Model: {brand} {model}\")\n",
        "    print(f\"Colour: {colour}\")\n",
        "    print(f\"Price: {price} INR per product\")\n",
        "    print(f\"Quantity: {bill_record[keys]}\")\n",
        "    print(f\"Discount: {discount} INR per product\")\n",
        "    print(\"*\" *30)\n",
        "    print(f\"total amount: {(float)(amount)} INR\")\n",
        "    print(\"*\" *30)\n",
        "    print(\"\\n\")\n",
        "    grand_total += amount\n",
        "print(\"*\" *50)\n",
        "print(colored(f\"Grand total: {(float)(grand_total)} INR\", attrs=['bold']))\n",
        "print(\"*\" *50)\n"
      ],
      "execution_count": 15,
      "outputs": [
        {
          "output_type": "stream",
          "name": "stdout",
          "text": [
            "\u001b[1m--------------INVOICE--------------\u001b[0m\n",
            "Company Name: XXXXXX\n",
            "Email ID: XXXXXXXXXXX@gmail.com\n",
            "Contact number: +91 XXXXXXXXXX\n",
            "--------------------------------------------------\n",
            "\u001b[1mDate & Time: 06/09/21 11:14:12\u001b[0m\n",
            "--------------------------------------------------\n",
            "1. Product name: Airpods\n",
            "Brand & Model: Apple 5.0 pro\n",
            "Colour: White\n",
            "Price: 24900 INR per product\n",
            "Quantity: 1\n",
            "Discount: 2490 INR per product\n",
            "******************************\n",
            "total amount: 22410.0 INR\n",
            "******************************\n",
            "\n",
            "\n",
            "2. Product name: Tablet\n",
            "Brand & Model: acer ONE 10 T4-129L\n",
            "Colour: Black\n",
            "Price: 12999 INR per product\n",
            "Quantity: 1\n",
            "Discount: 3510 INR per product\n",
            "******************************\n",
            "total amount: 9489.0 INR\n",
            "******************************\n",
            "\n",
            "\n",
            "3. Product name: Headphone\n",
            "Brand & Model: Sony ZX42\n",
            "Colour: White\n",
            "Price: 1490 INR per product\n",
            "Quantity: 1\n",
            "Discount: 194 INR per product\n",
            "******************************\n",
            "total amount: 1296.0 INR\n",
            "******************************\n",
            "\n",
            "\n",
            "**************************************************\n",
            "\u001b[1mGrand total: 33195.0 INR\u001b[0m\n",
            "**************************************************\n"
          ]
        }
      ]
    },
    {
      "cell_type": "code",
      "metadata": {
        "id": "FvYYB9MkQ96x"
      },
      "source": [
        ""
      ],
      "execution_count": 10,
      "outputs": []
    },
    {
      "cell_type": "code",
      "metadata": {
        "id": "BqYAhlWXYqHA"
      },
      "source": [
        ""
      ],
      "execution_count": null,
      "outputs": []
    }
  ]
}