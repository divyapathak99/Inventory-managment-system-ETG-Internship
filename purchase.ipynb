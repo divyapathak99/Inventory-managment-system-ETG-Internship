{
  "nbformat": 4,
  "nbformat_minor": 0,
  "metadata": {
    "colab": {
      "name": "purchase.ipynb",
      "provenance": [],
      "collapsed_sections": []
    },
    "kernelspec": {
      "name": "python3",
      "display_name": "Python 3"
    },
    "language_info": {
      "name": "python"
    }
  },
  "cells": [
    {
      "cell_type": "code",
      "metadata": {
        "id": "cEfQLI5NPbVj"
      },
      "source": [
        "import json\n",
        "\n",
        "# opening record.json\n",
        "with open(\"record.json\",\"r\") as file:\n",
        "  record = json.load(file)\n",
        "\n",
        "# Opening sales.json\n",
        "with open(\"sales.json\",\"r\") as file:\n",
        "  sales = json.load(file)\n",
        "\n"
      ],
      "execution_count": 7,
      "outputs": []
    },
    {
      "cell_type": "code",
      "metadata": {
        "colab": {
          "base_uri": "https://localhost:8080/"
        },
        "id": "mhcDW087PKtH",
        "outputId": "4c944f60-7780-47e5-9133-06812993a6dd"
      },
      "source": [
        "# PURCHASE and update inventory.\n",
        "from datetime import datetime\n",
        "# Prompt user to enter the number of items they are purchasing.\n",
        "items = int(input(\"enter the number of items you are purchasing: \"))\n",
        "bill_record = {}\n",
        "for i in range(0, items):\n",
        "    # checking if the product_id entered by the user is a valid id or not. \n",
        "    product_id = input(\"enter product id: \").replace(\" \", \"\")\n",
        "    while (product_id not in record.keys()):\n",
        "        print(\"Sorry, we don't sale this item!\")\n",
        "        product_id = input(\"enter product id: \").replace(\" \", \"\")\n",
        "    quantity = int(input(\"enter the quantity: \"))\n",
        "    ava_item = record[product_id][\"Quantity\"]\n",
        "    # Checking for the availability of the products and updating the value of the records, if the user purchased something.   \n",
        "    if (ava_item == 0):\n",
        "        print(f\"sorry, your order for {product_id} is not available!\")\n",
        "    elif (quantity > record[product_id][\"Quantity\"]):\n",
        "        print(f\"we have only {ava_item} items available for your order {product_id} at this moment. would you like to purchase them?\")\n",
        "        consumer_ans = input(\"YES/NO: \")\n",
        "        if consumer_ans.upper() == \"YES\":\n",
        "            record[product_id][\"Quantity\"] = 0\n",
        "            bill_record[product_id] = record[product_id][\"Quantity\"]\n",
        "            discount = round((record[product_id][\"Discount(%)\"] * record[product_id][\"Price(INR)\"])/100)\n",
        "            amount = record[product_id][\"Quantity\"] * (record[product_id][\"Price(INR)\"] - discount)\n",
        "            sales[len(sales) + 1] = {\"Product ID\": record[product_id], \"Proncuct name\": record[product_id][\"Product name\"],\"Brand\": record[product_id][\"Brand\"], \"Quantity\": record[product_id][\"Quantity\"], \"Net amount(INR)\": amount, \"Date & Time\": datetime.now().strftime(\"%d/%m/%y %H:%M:%S\")}\n",
        "    else:\n",
        "        bill_record[product_id] = quantity\n",
        "        discount = round((record[product_id][\"Discount(%)\"] * record[product_id][\"Price(INR)\"])/100)\n",
        "        amount = quantity * (record[product_id][\"Price(INR)\"] - discount)\n",
        "        record[product_id][\"Quantity\"] = record[product_id][\"Quantity\"] - quantity\n",
        "        sales[len(sales) + 1] = {\"Product ID\": product_id, \"Proncuct name\": record[product_id][\"Product name\"],\"Brand\": record[product_id][\"Brand\"], \"Quantity\": quantity, \"Net amount(INR)\": amount, \"Date & Time\":datetime.now().strftime(\"%d/%m/%y %H:%M:%S\")} \n",
        "    print(\"\\n\")\n",
        "# update record.json\n",
        "js = json.dumps(record)\n",
        "with open(\"record.json\", \"w\") as file:\n",
        "  file.write(js)\n",
        "  \n",
        "# record sales.json file after every purchase.\n",
        "fr = json.dumps(sales)\n",
        "with open(\"sales.json\", \"w\") as file:\n",
        "    file.write(fr)\n",
        "        "
      ],
      "execution_count": 8,
      "outputs": [
        {
          "output_type": "stream",
          "name": "stdout",
          "text": [
            "enter the number of items you are purchasing: 1\n",
            "enter product id: 1004\n",
            "enter the quantity: 1\n",
            "\n",
            "\n"
          ]
        }
      ]
    },
    {
      "cell_type": "code",
      "metadata": {
        "colab": {
          "base_uri": "https://localhost:8080/"
        },
        "id": "TMnCT9CoPuaS",
        "outputId": "7c8d1b2d-ffab-4f59-c8ac-bb56a3c06c6e"
      },
      "source": [
        "# print bill of the consumer purchases.\n",
        "\n",
        "from datetime import datetime\n",
        "from termcolor import colored\n",
        "\n",
        "now = datetime.now()\n",
        "dt_string = now.strftime(\"%d/%m/%y %H:%M:%S\")\n",
        "count = 0\n",
        "grand_total = 0\n",
        "print(colored(\"--------------INVOICE--------------\", attrs=['bold']))\n",
        "print(\"Company Name: XXXXXX\")\n",
        "print(\"Email ID: XXXXXXXXXXX@gmail.com\")\n",
        "print(\"Contact number: +91 XXXXXXXXXX\")\n",
        "print(\"-\" *50)\n",
        "print(colored(f\"Date & Time: {dt_string}\", attrs =['bold']))\n",
        "print(\"-\" *50)\n",
        "\n",
        "for keys in bill_record.keys():\n",
        "    count += 1\n",
        "    name = record[keys][\"Product name\"]\n",
        "    price = record[keys][\"Price(INR)\"]\n",
        "    brand = record[keys][\"Brand\"]\n",
        "    model = record[keys][\"Model\"]\n",
        "    colour = record[keys][\"Colour\"]\n",
        "    discount = round((record[keys][\"Discount(%)\"] * price)/100)\n",
        "    amount = bill_record[keys] * (price - discount)\n",
        "    print(f\"{count}. Product name: {name}\")\n",
        "    print(f\"Brand & Model: {brand} {model}\")\n",
        "    print(f\"Colour: {colour}\")\n",
        "    print(f\"Price: {price} INR per product\")\n",
        "    print(f\"Quantity: {bill_record[keys]}\")\n",
        "    print(f\"Discount: {discount} INR per product\")\n",
        "    print(\"*\" *30)\n",
        "    print(f\"total amount: {(float)(amount)} INR\")\n",
        "    print(\"*\" *30)\n",
        "    print(\"\\n\")\n",
        "    grand_total += amount\n",
        "print(\"*\" *50)\n",
        "print(colored(f\"Grand total: {(float)(grand_total)} INR\", attrs=['bold']))\n",
        "print(\"*\" *50)\n"
      ],
      "execution_count": 9,
      "outputs": [
        {
          "output_type": "stream",
          "name": "stdout",
          "text": [
            "\u001b[1m--------------INVOICE--------------\u001b[0m\n",
            "Company Name: XXXXXX\n",
            "Email ID: XXXXXXXXXXX@gmail.com\n",
            "Contact number: +91 XXXXXXXXXX\n",
            "--------------------------------------------------\n",
            "\u001b[1mDate & Time: 06/09/21 08:40:18\u001b[0m\n",
            "--------------------------------------------------\n",
            "1. Product name: Phone\n",
            "Brand & Model: Redmi Note 10s\n",
            "Colour: Frost white\n",
            "Price: 16499 INR per product\n",
            "Quantity: 1\n",
            "Discount: 1980 INR per product\n",
            "******************************\n",
            "total amount: 14519.0 INR\n",
            "******************************\n",
            "\n",
            "\n",
            "**************************************************\n",
            "\u001b[1mGrand total: 14519.0 INR\u001b[0m\n",
            "**************************************************\n"
          ]
        }
      ]
    },
    {
      "cell_type": "code",
      "metadata": {
        "id": "FvYYB9MkQ96x"
      },
      "source": [
        ""
      ],
      "execution_count": null,
      "outputs": []
    }
  ]
}